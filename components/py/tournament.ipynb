{
 "cells": [
  {
   "cell_type": "code",
   "execution_count": 1,
   "metadata": {},
   "outputs": [],
   "source": [
    "import sqlite3"
   ]
  },
  {
   "cell_type": "code",
   "execution_count": 2,
   "metadata": {},
   "outputs": [],
   "source": [
    "DATAPATH = 'football.db'"
   ]
  },
  {
   "cell_type": "code",
   "execution_count": 3,
   "metadata": {},
   "outputs": [],
   "source": [
    "def setup_database(datapath):\n",
    "    bdd = sqlite3.connect(datapath)\n",
    "    cur = bdd.cursor()\n",
    "\n",
    "    # Supprimer les tables existantes si elles existent\n",
    "    cur.execute(\"DROP TABLE IF EXISTS matchs\")\n",
    "    cur.execute(\"DROP TABLE IF EXISTS equipes\")\n",
    "\n",
    "    # Créer la table 'equipes' en premier\n",
    "    cur.execute(''' \n",
    "    CREATE TABLE IF NOT EXISTS equipes (\n",
    "        id INTEGER PRIMARY KEY AUTOINCREMENT,\n",
    "        nom VARCHAR(30),\n",
    "        federation VARCHAR(30),\n",
    "        confederation VARCHAR(30)\n",
    "    ) ''')\n",
    "\n",
    "    # Créer la table 'matchs' avec les clés étrangères\n",
    "    cur.execute(''' \n",
    "    CREATE TABLE IF NOT EXISTS matchs (\n",
    "        id INTEGER PRIMARY KEY AUTOINCREMENT,\n",
    "        date DATE,\n",
    "        domicile INTEGER,\n",
    "        exterieur INTEGER,\n",
    "        score_dom INTEGER,\n",
    "        score_ext INTEGER,\n",
    "        competition VARCHAR(30),\n",
    "        FOREIGN KEY (domicile) REFERENCES equipes(id),\n",
    "        FOREIGN KEY (exterieur) REFERENCES equipes(id)\n",
    "    ) ''')\n",
    "\n",
    "    # Sauvegarder les modifications et fermer la connexion à la base de données\n",
    "    bdd.commit()\n",
    "    bdd.close()"
   ]
  },
  {
   "cell_type": "code",
   "execution_count": 4,
   "metadata": {},
   "outputs": [],
   "source": [
    "def setup_database(datapath):\n",
    "    bdd = sqlite3.connect(datapath)\n",
    "    cur = bdd.cursor()\n",
    "\n",
    "    cur.execute(\"DROP TABLE IF EXISTS matchs\")\n",
    "    cur.execute(\"DROP TABLE IF EXISTS equipes\")\n",
    "\n",
    "    cur.execute(''' \n",
    "    CREATE TABLE IF NOT EXISTS equipes (\n",
    "        id INTEGER PRIMARY KEY AUTOINCREMENT,\n",
    "        nom VARCHAR(30),\n",
    "        elo FLOAT,\n",
    "        federation VARCHAR(30)\n",
    "    ) ''')\n",
    "\n",
    "    cur.execute(''' \n",
    "    CREATE TABLE IF NOT EXISTS matchs (\n",
    "        id INTEGER PRIMARY KEY AUTOINCREMENT,\n",
    "        date DATE,\n",
    "        domicile INTEGER,\n",
    "        exterieur INTEGER,\n",
    "        score_dom INTEGER,\n",
    "        score_ext INTEGER,\n",
    "        cote_dom FLOAT,\n",
    "        cote_nul FLOAT,        \n",
    "        cote_ext FLOAT,\n",
    "        competition VARCHAR(30),\n",
    "        FOREIGN KEY (domicile) REFERENCES equipes(id),\n",
    "        FOREIGN KEY (exterieur) REFERENCES equipes(id)\n",
    "    ) ''')\n",
    "\n",
    "    bdd.commit()\n",
    "    bdd.close()"
   ]
  },
  {
   "cell_type": "code",
   "execution_count": 5,
   "metadata": {},
   "outputs": [],
   "source": [
    "def probabilite(x, y):\n",
    "    somme = x + y\n",
    "    prob_x = x / somme\n",
    "    prob_y = y / somme\n",
    "    prob_nul = abs(x - y)\n",
    "    return prob_x, prob_y, prob_nul"
   ]
  },
  {
   "cell_type": "code",
   "execution_count": 6,
   "metadata": {},
   "outputs": [],
   "source": [
    "def cotes(probabilite):\n",
    "    if probabilite > 0:\n",
    "        return 1 / probabilite\n",
    "    else:\n",
    "        return float('inf')"
   ]
  },
  {
   "cell_type": "code",
   "execution_count": 7,
   "metadata": {},
   "outputs": [],
   "source": [
    "def calcul_elo(s1, s2, prob_x, prob_y, k=10):\n",
    "    if s1 > s2:\n",
    "        score_x = 1\n",
    "        score_y = 0\n",
    "    elif s1 == s2:\n",
    "        score_x = 0.5\n",
    "        score_y = 0.5\n",
    "    else:\n",
    "        score_x = 0\n",
    "        score_y = 1\n",
    "\n",
    "    delta_x = k * (score_x - prob_x)\n",
    "    delta_y = k * (score_y - prob_y)\n",
    "\n",
    "    return delta_x, delta_y"
   ]
  },
  {
   "cell_type": "code",
   "execution_count": 8,
   "metadata": {},
   "outputs": [],
   "source": [
    "def creer_groupe(n, liste):\n",
    "    lst = [[] for i in range(n)]\n",
    "    for i in range(len(liste)):\n",
    "        lst[i % n].append(liste[i])\n",
    "    return lst"
   ]
  },
  {
   "cell_type": "code",
   "execution_count": 9,
   "metadata": {},
   "outputs": [],
   "source": [
    "def generate_ligue(liste, nom):\n",
    "    matchs = []\n",
    "    bdd = sqlite3.connect(DATAPATH)\n",
    "    cur = bdd.cursor()\n",
    "    \n",
    "    if len(liste) % 2 == 1: \n",
    "        liste.append(None)\n",
    "        \n",
    "    for j in range(len(liste) - 1):\n",
    "        for i in range(len(liste) // 2):\n",
    "            domicile = liste[i]\n",
    "            exterieur = liste[len(liste) - 1 - i]\n",
    "            if domicile is not None and exterieur is not None:\n",
    "                matchs.append((domicile, exterieur))\n",
    "                cur.execute('''INSERT INTO matchs (date, domicile, exterieur, cote_dom, cote_nul, cote_ext, score_dom, score_ext, competition) \n",
    "                       VALUES (?, ?, ?, ?, ?, ?, ?, ?, ?)''', \n",
    "                    ('2023-05-01', domicile.get_nom(), exterieur.get_nom(), None, None, None, None, None, nom))\n",
    "        liste.insert(1, liste.pop())\n",
    "    \n",
    "    bdd.commit()\n",
    "    bdd.close()\n",
    "    \n",
    "    return matchs"
   ]
  },
  {
   "cell_type": "code",
   "execution_count": 10,
   "metadata": {},
   "outputs": [],
   "source": [
    "class Equipe:\n",
    "    def __init__(self, nom, federation):\n",
    "        self.nom = nom\n",
    "        self.elo = 1000\n",
    "        self.federation = federation\n",
    "    \n",
    "    def get_nom(self):\n",
    "        return self.nom\n",
    "    \n",
    "    def set_elo(self, elo):\n",
    "        self.elo = elo\n",
    "\n",
    "    def get_elo(self):\n",
    "        return self.elo\n",
    "        "
   ]
  },
  {
   "cell_type": "code",
   "execution_count": 11,
   "metadata": {},
   "outputs": [],
   "source": [
    "def insert_equipes(liste, federation):\n",
    "    bdd = sqlite3.connect(DATAPATH)\n",
    "    cur = bdd.cursor()\n",
    "    liste_equipe = []\n",
    "    \n",
    "    for equipe in liste:\n",
    "        cur.execute(\"INSERT INTO equipes (nom, elo, federation) VALUES (?, ?, ?)\", (equipe, 1000, federation))\n",
    "        liste_equipe.append(Equipe(equipe, federation))\n",
    "        \n",
    "    bdd.commit()\n",
    "    bdd.close()\n",
    "    return liste_equipe"
   ]
  },
  {
   "cell_type": "code",
   "execution_count": 12,
   "metadata": {},
   "outputs": [],
   "source": [
    "def match(equipe):\n",
    "    domicile = equipe[0]\n",
    "    exterieur = equipe[1]\n",
    "    score_domicile, score_exterieur = 0, 0\n",
    "    prob_x, prob_y, prob_nul = probabilite(domicile.get_elo(), exterieur.get_elo())\n",
    "    cote_x = cotes(prob_x)\n",
    "    cote_y = cotes(prob_y)\n",
    "    cote_nul = cotes(prob_nul)\n",
    "\n",
    "    domicile_elo, exterieur_elo = calcul_elo(score_domicile, score_exterieur, prob_x, prob_y)\n",
    "    elo_dom = domicile.get_elo() + domicile_elo\n",
    "    elo_ext = exterieur.get_elo() + exterieur_elo\n",
    "    domicile.set_elo(elo_dom)\n",
    "    exterieur.set_elo(elo_ext)"
   ]
  },
  {
   "cell_type": "code",
   "execution_count": 13,
   "metadata": {},
   "outputs": [
    {
     "data": {
      "text/plain": [
       "[(<__main__.Equipe at 0x230bdcb78f0>, <__main__.Equipe at 0x230bdc97560>),\n",
       " (<__main__.Equipe at 0x230bdcb5490>, <__main__.Equipe at 0x230bdc95fa0>),\n",
       " (<__main__.Equipe at 0x230bdcb78f0>, <__main__.Equipe at 0x230bdc95fa0>),\n",
       " (<__main__.Equipe at 0x230bdc97560>, <__main__.Equipe at 0x230bdcb5490>),\n",
       " (<__main__.Equipe at 0x230bdcb78f0>, <__main__.Equipe at 0x230bdcb5490>),\n",
       " (<__main__.Equipe at 0x230bdc95fa0>, <__main__.Equipe at 0x230bdc97560>)]"
      ]
     },
     "execution_count": 13,
     "metadata": {},
     "output_type": "execute_result"
    }
   ],
   "source": [
    "setup_database(DATAPATH)\n",
    "\n",
    "liste_nom_equipe = ['Paris-SG', 'Lens', 'Lille', 'Lyon']\n",
    "liste_equipe = insert_equipes(liste_nom_equipe, 'FFF')\n",
    "generate_ligue(liste_equipe, 'ligue 1')"
   ]
  }
 ],
 "metadata": {
  "kernelspec": {
   "display_name": "Python 3",
   "language": "python",
   "name": "python3"
  },
  "language_info": {
   "codemirror_mode": {
    "name": "ipython",
    "version": 3
   },
   "file_extension": ".py",
   "mimetype": "text/x-python",
   "name": "python",
   "nbconvert_exporter": "python",
   "pygments_lexer": "ipython3",
   "version": "3.12.2"
  }
 },
 "nbformat": 4,
 "nbformat_minor": 2
}
